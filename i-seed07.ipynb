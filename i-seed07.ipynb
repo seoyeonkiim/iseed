{
 "cells": [
  {
   "cell_type": "markdown",
   "id": "74ae2c52-9e33-4340-aef8-b0a5acd42587",
   "metadata": {},
   "source": [
    "2."
   ]
  },
  {
   "cell_type": "code",
   "execution_count": null,
   "id": "d73df82a-da4e-451c-b997-b47f3d263008",
   "metadata": {},
   "outputs": [],
   "source": [
    "class Car :\n",
    "    color = \"\"\n",
    "    speed = 0\n",
    "\n",
    "    def upSpeed(self,value):\n",
    "        self.speed += value"
   ]
  },
  {
   "cell_type": "markdown",
   "id": "0db80a53-fbee-4359-b7e4-6eceba40883f",
   "metadata": {},
   "source": [
    "4."
   ]
  },
  {
   "cell_type": "code",
   "execution_count": 2,
   "id": "12bc779f-e312-4c99-a078-31c8ea5437c0",
   "metadata": {},
   "outputs": [],
   "source": [
    "class Horse:\n",
    "    speed = 0\n",
    "\n",
    "    def __init__(self) :\n",
    "        self.speed = 50"
   ]
  },
  {
   "cell_type": "markdown",
   "id": "1311a1ba-535a-4b47-856f-ad2450feca6f",
   "metadata": {},
   "source": [
    "6."
   ]
  },
  {
   "cell_type": "code",
   "execution_count": 1,
   "id": "a371c18c-a23b-4ec7-8196-567fba36ae7b",
   "metadata": {},
   "outputs": [
    {
     "name": "stdout",
     "output_type": "stream",
     "text": [
      "슈퍼 클래스\n",
      "서브 클래스\n"
     ]
    }
   ],
   "source": [
    "class Car:\n",
    "    def method(self):\n",
    "        print(\"슈퍼 클래스\")\n",
    "\n",
    "class Sedan(Car):\n",
    "    def method(self):\n",
    "        print(\"서브 클래스\")\n",
    "\n",
    "myCar = Car()\n",
    "mySedan = Sedan()\n",
    "myCar.method()\n",
    "mySedan.method()"
   ]
  },
  {
   "cell_type": "markdown",
   "id": "ab52e7d2-7a29-4738-a405-f58c30ad4097",
   "metadata": {},
   "source": [
    "7."
   ]
  },
  {
   "cell_type": "code",
   "execution_count": 3,
   "id": "1aa4eba8-8e69-4750-94d3-8b2c2e68b7da",
   "metadata": {},
   "outputs": [],
   "source": [
    "class Car:\n",
    "    speed = 0\n",
    "\n",
    "    def upSpeed(self,value):\n",
    "        self.speed += value\n",
    "\n",
    "class RVCar(Car):\n",
    "    seatNum = 0\n",
    "\n",
    "    def getSeatNum(self):\n",
    "        return self.seatNum"
   ]
  }
 ],
 "metadata": {
  "kernelspec": {
   "display_name": "Python 3 (ipykernel)",
   "language": "python",
   "name": "python3"
  },
  "language_info": {
   "codemirror_mode": {
    "name": "ipython",
    "version": 3
   },
   "file_extension": ".py",
   "mimetype": "text/x-python",
   "name": "python",
   "nbconvert_exporter": "python",
   "pygments_lexer": "ipython3",
   "version": "3.11.7"
  }
 },
 "nbformat": 4,
 "nbformat_minor": 5
}
