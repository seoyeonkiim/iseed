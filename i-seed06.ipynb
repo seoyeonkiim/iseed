{
 "cells": [
  {
   "cell_type": "markdown",
   "id": "83823b04-7235-4bbb-9abd-d85ba50c8516",
   "metadata": {},
   "source": [
    "1."
   ]
  },
  {
   "cell_type": "code",
   "execution_count": null,
   "id": "1e295739-6df6-4377-abb0-0ebdda030998",
   "metadata": {},
   "outputs": [],
   "source": [
    "# 입력과 관련된 함수\n",
    "input()\n",
    "read()\n",
    "readline()\n",
    "readlines()\n",
    "# 출력과 관련된 함수\n",
    "print()\n",
    "write()\n",
    "writeline()"
   ]
  },
  {
   "cell_type": "markdown",
   "id": "9aee2daf-b995-4abb-88dd-d8674305bf47",
   "metadata": {},
   "source": [
    "2."
   ]
  },
  {
   "cell_type": "markdown",
   "id": "10247a1d-d7c1-4164-b0eb-d481c108805f",
   "metadata": {},
   "source": [
    "A. 파일 열기 - C. 파일 쓰기 - B. 파일 쓰기 - D. 파일 닫기"
   ]
  },
  {
   "cell_type": "markdown",
   "id": "21413282-d521-4ce0-8f88-57fdd4c64fcd",
   "metadata": {},
   "source": [
    "3."
   ]
  },
  {
   "cell_type": "markdown",
   "id": "013204a2-73ad-4d02-868f-0d9cde2d1943",
   "metadata": {},
   "source": [
    "1, 3, 6"
   ]
  },
  {
   "cell_type": "markdown",
   "id": "aea796a3-4811-4719-916f-c1add39d9298",
   "metadata": {},
   "source": [
    "4."
   ]
  },
  {
   "cell_type": "code",
   "execution_count": null,
   "id": "f3483e40-8d00-4ae1-a27d-55923e4c9b71",
   "metadata": {},
   "outputs": [],
   "source": [
    "inFp = open('C:/Temp/data1.txt', 'r')\n",
    "\n",
    "inStr = inFp.readline()\n",
    "print(inStr, end = \"\")\n",
    "\n",
    "inFp.close()"
   ]
  },
  {
   "cell_type": "markdown",
   "id": "bb9f2222-3230-4666-9a4b-a77127a90946",
   "metadata": {},
   "source": [
    "6."
   ]
  },
  {
   "cell_type": "code",
   "execution_count": null,
   "id": "0c1e965a-0984-4c7e-890a-32e8162168c0",
   "metadata": {},
   "outputs": [],
   "source": [
    "inFp = open('C:/Windows/win.ini','r')\n",
    "outFp = open('C:/Temp/data3.txt', 'w')\n",
    "\n",
    "inList = inFp.readlines()\n",
    "for inStr in inList :\n",
    "    outFp.writelines(inStr)\n",
    "\n",
    "inFp.close()\n",
    "outFp.close()"
   ]
  }
 ],
 "metadata": {
  "kernelspec": {
   "display_name": "Python 3 (ipykernel)",
   "language": "python",
   "name": "python3"
  },
  "language_info": {
   "codemirror_mode": {
    "name": "ipython",
    "version": 3
   },
   "file_extension": ".py",
   "mimetype": "text/x-python",
   "name": "python",
   "nbconvert_exporter": "python",
   "pygments_lexer": "ipython3",
   "version": "3.11.7"
  }
 },
 "nbformat": 4,
 "nbformat_minor": 5
}
