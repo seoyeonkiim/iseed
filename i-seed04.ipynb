{
 "cells": [
  {
   "cell_type": "markdown",
   "id": "3f2612bc-7d3e-4000-bc79-98dc9b3e9e0c",
   "metadata": {},
   "source": [
    "3."
   ]
  },
  {
   "cell_type": "code",
   "execution_count": 1,
   "id": "1768be95-6245-4b31-8f68-d25ab4b8bcba",
   "metadata": {},
   "outputs": [
    {
     "name": "stdout",
     "output_type": "stream",
     "text": [
      "600\n"
     ]
    }
   ],
   "source": [
    "def plus(v1, v2, v3):\n",
    "    result = 0\n",
    "    result = v1 + v2 +v3\n",
    "    return result\n",
    "\n",
    "hap = plus(100, 200, 300)\n",
    "print(hap)"
   ]
  },
  {
   "cell_type": "markdown",
   "id": "b5a5e208-8e2f-4dd6-bc49-13ce034a6772",
   "metadata": {},
   "source": [
    "4."
   ]
  },
  {
   "cell_type": "code",
   "execution_count": 4,
   "id": "2eb7d3cc-f788-45ac-8352-7920d5e885a9",
   "metadata": {},
   "outputs": [
    {
     "name": "stdout",
     "output_type": "stream",
     "text": [
      "100\n",
      "10\n"
     ]
    }
   ],
   "source": [
    "def f1():\n",
    "    print(var)\n",
    "\n",
    "def f2():\n",
    "    var = 10\n",
    "    print(var)\n",
    "\n",
    "var = 100\n",
    "f1()\n",
    "f2()"
   ]
  },
  {
   "cell_type": "markdown",
   "id": "2fa58387-a679-4dfa-ae6a-a59c06a1f678",
   "metadata": {},
   "source": [
    "5."
   ]
  },
  {
   "cell_type": "code",
   "execution_count": 5,
   "id": "a2bf3d99-a079-423e-ab93-d21595a0731b",
   "metadata": {},
   "outputs": [
    {
     "name": "stdout",
     "output_type": "stream",
     "text": [
      "p$y$t$h$o$n$"
     ]
    }
   ],
   "source": [
    "ss = 'python'\n",
    "\n",
    "for i in range(0, len(ss)):\n",
    "    print(ss[i] + '$', end='')\n"
   ]
  },
  {
   "cell_type": "markdown",
   "id": "177611f6-564c-4c47-80c1-cb00fc3f4b6f",
   "metadata": {},
   "source": [
    "8."
   ]
  },
  {
   "cell_type": "code",
   "execution_count": 8,
   "id": "4aaa90d9-f6d2-4a77-8aca-5685869d5c98",
   "metadata": {},
   "outputs": [
    {
     "name": "stdout",
     "output_type": "stream",
     "text": [
      "매개변수 없이 호출 ==> 6\n",
      "매개변수 1개로 호출 ==> 6\n",
      "매개변수 2개로 호출 ==> 6\n",
      "매개변수 3개로 호출 ==> 6\n"
     ]
    }
   ],
   "source": [
    "def myFunc( p1=1, p2=2, p3=3):\n",
    "    ret = p1 + p2 + p3\n",
    "    return ret\n",
    "\n",
    "print(\"매개변수 없이 호출 ==>\", myFunc())\n",
    "print(\"매개변수 1개로 호출 ==>\", myFunc(1))\n",
    "print(\"매개변수 2개로 호출 ==>\", myFunc(1,2))\n",
    "print(\"매개변수 3개로 호출 ==>\", myFunc(1,2,3))"
   ]
  },
  {
   "cell_type": "markdown",
   "id": "22ae4ea0-642e-49fc-be71-811047199107",
   "metadata": {},
   "source": [
    "9."
   ]
  },
  {
   "cell_type": "code",
   "execution_count": 1,
   "id": "914471bb-e5d9-4880-91fc-1ff7e3f444fe",
   "metadata": {},
   "outputs": [
    {
     "name": "stdout",
     "output_type": "stream",
     "text": [
      "내용을 거꾸로 출력 --> nohtyP\n"
     ]
    }
   ],
   "source": [
    "inStr, outStr = \"Python\",\"\"\n",
    "strLen = len(inStr)\n",
    "\n",
    "for i in range(0, strLen):\n",
    "    outStr += inStr[strLen - (i+1)]\n",
    "print(\"내용을 거꾸로 출력 --> %s\"%outStr)"
   ]
  },
  {
   "cell_type": "markdown",
   "id": "4e047959-d127-4816-8064-b2002eaf8c44",
   "metadata": {},
   "source": [
    "11-1."
   ]
  },
  {
   "cell_type": "code",
   "execution_count": 3,
   "id": "f16b20cb-268a-44ad-b9bb-80aa6f96a063",
   "metadata": {},
   "outputs": [
    {
     "name": "stdout",
     "output_type": "stream",
     "text": [
      "파이썬CookBook열공중\n"
     ]
    }
   ],
   "source": [
    "import re\n",
    "\n",
    "input_str = \"파이썬 ### CookBook $$$ @@@ 열공중 1234\"\n",
    "filtered_str = re.sub(r'[^가-힣a-zA-Z]', '', input_str)\n",
    "print(filtered_str)"
   ]
  },
  {
   "cell_type": "markdown",
   "id": "bfdea91a-eb2b-424b-8168-1f168ece0265",
   "metadata": {},
   "source": [
    "11-2."
   ]
  },
  {
   "cell_type": "code",
   "execution_count": 9,
   "id": "8fd19d46-95f8-4490-a9a9-c745ea349dd7",
   "metadata": {},
   "outputs": [
    {
     "name": "stdout",
     "output_type": "stream",
     "text": [
      "5050\n"
     ]
    }
   ],
   "source": [
    "def addNumber(num):\n",
    "    if num <= 1:\n",
    "        return num\n",
    "    else:\n",
    "        return num + addNumber(num-1)\n",
    "\n",
    "print(addNumber(100))"
   ]
  },
  {
   "cell_type": "markdown",
   "id": "3331ad15-c56a-46b0-9b66-b1bbe68ba9fc",
   "metadata": {},
   "source": [
    "13."
   ]
  },
  {
   "cell_type": "code",
   "execution_count": 4,
   "id": "585c4c08-d152-4155-ae87-ec820fb57613",
   "metadata": {},
   "outputs": [
    {
     "ename": "ZeroDivisionError",
     "evalue": "division by zero",
     "output_type": "error",
     "traceback": [
      "\u001b[1;31m---------------------------------------------------------------------------\u001b[0m",
      "\u001b[1;31mZeroDivisionError\u001b[0m                         Traceback (most recent call last)",
      "Cell \u001b[1;32mIn[4], line 9\u001b[0m\n\u001b[0;32m      7\u001b[0m radius \u001b[38;5;241m=\u001b[39m \u001b[38;5;241m200\u001b[39m\n\u001b[0;32m      8\u001b[0m num_chars \u001b[38;5;241m=\u001b[39m \u001b[38;5;28mlen\u001b[39m(inStr)\n\u001b[1;32m----> 9\u001b[0m angle_per_char \u001b[38;5;241m=\u001b[39m \u001b[38;5;241m360\u001b[39m \u001b[38;5;241m*\u001b[39m \u001b[38;5;241m2\u001b[39m \u001b[38;5;241m/\u001b[39m num_chars\n\u001b[0;32m     11\u001b[0m turtle\u001b[38;5;241m.\u001b[39mshape(\u001b[38;5;124m'\u001b[39m\u001b[38;5;124mturtle\u001b[39m\u001b[38;5;124m'\u001b[39m)\n\u001b[0;32m     12\u001b[0m turtle\u001b[38;5;241m.\u001b[39msetup(width \u001b[38;5;241m=\u001b[39m swidth \u001b[38;5;241m+\u001b[39m \u001b[38;5;241m50\u001b[39m, height \u001b[38;5;241m=\u001b[39m sheight \u001b[38;5;241m+\u001b[39m \u001b[38;5;241m50\u001b[39m)\n",
      "\u001b[1;31mZeroDivisionError\u001b[0m: division by zero"
     ]
    }
   ],
   "source": [
    "import turtle\n",
    "import random\n",
    "from tkinter.simpledialog import *\n",
    "\n",
    "inStr = ''\n",
    "swidth, sheight = 500, 500\n",
    "radius = 200\n",
    "num_chars = len(inStr)\n",
    "angle_per_char = 360 * 2 / num_chars\n",
    "\n",
    "turtle.shape('turtle')\n",
    "turtle.setup(width = swidth + 50, height = sheight + 50)\n",
    "turtle.screensize(swidth, height)\n",
    "turtle.penup()\n",
    "\n",
    "inStr = askstring('문자열 입력','거북이가 쓸 문자열을 입력')\n",
    "\n",
    "for i, ch in enumerate(inStr):\n",
    "    \n",
    "    angle = i * angle_per_char\n",
    "    x = radius * (angle * 3.14 / 180).cos()\n",
    "    y = radius * (angle * 3.14 / 180).sin()\n",
    "    \n",
    "    turtle.goto(x, y)\n",
    "    r, g, b = random.random(), random.random(), random.random()\n",
    "    turtle.pencolor((r, g, b))\n",
    "    turtle.write(ch, font=('맑은 고딕', txtSize, 'bold'))\n",
    "\n",
    "turtle.done()"
   ]
  }
 ],
 "metadata": {
  "kernelspec": {
   "display_name": "Python 3 (ipykernel)",
   "language": "python",
   "name": "python3"
  },
  "language_info": {
   "codemirror_mode": {
    "name": "ipython",
    "version": 3
   },
   "file_extension": ".py",
   "mimetype": "text/x-python",
   "name": "python",
   "nbconvert_exporter": "python",
   "pygments_lexer": "ipython3",
   "version": "3.11.7"
  }
 },
 "nbformat": 4,
 "nbformat_minor": 5
}
