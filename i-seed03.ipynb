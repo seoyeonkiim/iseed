{
 "cells": [
  {
   "cell_type": "markdown",
   "id": "7d09af4a-9ef3-494b-9bd9-dac8fb9da984",
   "metadata": {},
   "source": [
    "4."
   ]
  },
  {
   "cell_type": "code",
   "execution_count": 1,
   "id": "414adce0-cddc-40a1-bd74-37268ad1603e",
   "metadata": {},
   "outputs": [
    {
     "name": "stdin",
     "output_type": "stream",
     "text": [
      "점수를 입력하세요 :  70\n"
     ]
    },
    {
     "name": "stdout",
     "output_type": "stream",
     "text": [
      "합격입니다. ^^\n"
     ]
    }
   ],
   "source": [
    "score = int(input(\"점수를 입력하세요 : \"))\n",
    "\n",
    "if score >= 90 :\n",
    "    print(\"장학생\", end='')\n",
    "elif score >= 60 :\n",
    "    print(\"합격\", end='')\n",
    "else :\n",
    "    print(\"불합격\", end='')\n",
    "\n",
    "print(\"입니다. ^^\")"
   ]
  },
  {
   "cell_type": "markdown",
   "id": "df2292cd-b15d-4bb2-b5c7-4c4cb303ccbd",
   "metadata": {},
   "source": [
    "5. 답) 3번"
   ]
  },
  {
   "cell_type": "code",
   "execution_count": 2,
   "id": "e691177e-4a74-41e7-aabe-46b169ab442d",
   "metadata": {},
   "outputs": [
    {
     "name": "stdout",
     "output_type": "stream",
     "text": [
      "홀수\n"
     ]
    }
   ],
   "source": [
    "num = 5\n",
    "if num % 2 == 0 :\n",
    "    res = '짝수'\n",
    "else :\n",
    "    res = '홀수'\n",
    "print(res)"
   ]
  },
  {
   "cell_type": "code",
   "execution_count": 3,
   "id": "0ddd8129-6e45-4aa4-9c3b-861383afd84e",
   "metadata": {},
   "outputs": [
    {
     "name": "stdout",
     "output_type": "stream",
     "text": [
      "홀수\n"
     ]
    }
   ],
   "source": [
    "num = 5\n",
    "res = '짝수' if num % 2 == 0 else '홀수'\n",
    "print(res)"
   ]
  },
  {
   "cell_type": "markdown",
   "id": "ca162f84-0123-4505-8749-1f027c445aa7",
   "metadata": {},
   "source": [
    "6."
   ]
  },
  {
   "cell_type": "code",
   "execution_count": 5,
   "id": "8f8dd317-2559-48ca-b94b-16cbf6cf3952",
   "metadata": {},
   "outputs": [
    {
     "data": {
      "text/plain": [
       "[100, 777, 300, 400, 500]"
      ]
     },
     "execution_count": 5,
     "metadata": {},
     "output_type": "execute_result"
    }
   ],
   "source": [
    "# (1)\n",
    "nn = [100, 200, 300, 400, 500]\n",
    "nn[1] = 777\n",
    "nn"
   ]
  },
  {
   "cell_type": "code",
   "execution_count": 6,
   "id": "8d63ab98-b9dc-44d7-9e4f-416e285af5ec",
   "metadata": {},
   "outputs": [
    {
     "data": {
      "text/plain": [
       "[100, [444, 555], 300, 400, 500]"
      ]
     },
     "execution_count": 6,
     "metadata": {},
     "output_type": "execute_result"
    }
   ],
   "source": [
    "# (2)\n",
    "nn = [100, 200, 300, 400, 500]\n",
    "nn[1] = [444, 555]\n",
    "nn"
   ]
  },
  {
   "cell_type": "code",
   "execution_count": 7,
   "id": "bfcb5c49-1b7b-4938-a134-e0743a578186",
   "metadata": {},
   "outputs": [
    {
     "data": {
      "text/plain": [
       "[100, 444, 555, 500]"
      ]
     },
     "execution_count": 7,
     "metadata": {},
     "output_type": "execute_result"
    }
   ],
   "source": [
    "# (3)\n",
    "nn = [100, 200, 300, 400, 500]\n",
    "nn[1:4] = [444, 555]\n",
    "nn"
   ]
  },
  {
   "cell_type": "code",
   "execution_count": 8,
   "id": "0acc869b-2a93-4495-9e6f-19fff38385e4",
   "metadata": {},
   "outputs": [
    {
     "data": {
      "text/plain": [
       "[100, 200]"
      ]
     },
     "execution_count": 8,
     "metadata": {},
     "output_type": "execute_result"
    }
   ],
   "source": [
    "# (4)\n",
    "nn = [100, 200, 300, 400, 500]\n",
    "nn[2:] = []\n",
    "nn"
   ]
  },
  {
   "cell_type": "markdown",
   "id": "e6dc4ac8-1cfa-462a-8478-bacdf20c9320",
   "metadata": {},
   "source": [
    "9."
   ]
  },
  {
   "cell_type": "code",
   "execution_count": 23,
   "id": "e5e4e25d-2dfe-401a-89b7-2d74a9f882af",
   "metadata": {},
   "outputs": [
    {
     "name": "stdout",
     "output_type": "stream",
     "text": [
      "40722\n"
     ]
    }
   ],
   "source": [
    "total = 0\n",
    "for num in range(3333, 10000):\n",
    "    if num % 1234 != 0:\n",
    "        continue\n",
    "    total += num\n",
    "    if total >= 100000:\n",
    "        break\n",
    "        \n",
    "print(total)"
   ]
  },
  {
   "cell_type": "markdown",
   "id": "bea2b462-b359-49e2-a339-5ee660bf031d",
   "metadata": {},
   "source": [
    "8."
   ]
  },
  {
   "cell_type": "code",
   "execution_count": 14,
   "id": "6cfb1b4b-9e4b-4507-961f-28077836dfce",
   "metadata": {},
   "outputs": [
    {
     "name": "stdout",
     "output_type": "stream",
     "text": [
      "23088\n"
     ]
    }
   ],
   "source": [
    "hap = 0\n",
    "for n in range(1234, 4568) :\n",
    "    if n % 444 ==0 :\n",
    "        hap += n\n",
    "print(hap)"
   ]
  },
  {
   "cell_type": "code",
   "execution_count": 15,
   "id": "882964ea-777d-4217-b6a3-f6a4a3a91db9",
   "metadata": {},
   "outputs": [
    {
     "name": "stdout",
     "output_type": "stream",
     "text": [
      "23088\n"
     ]
    }
   ],
   "source": [
    "hap = 0\n",
    "n = 1234\n",
    "\n",
    "while n < 4568:\n",
    "    if n % 444 == 0:\n",
    "        hap += n\n",
    "    n += 1\n",
    "\n",
    "print(hap)"
   ]
  },
  {
   "cell_type": "markdown",
   "id": "30dd01b2-c542-44b1-83c0-b863b2e2a589",
   "metadata": {},
   "source": [
    "14."
   ]
  },
  {
   "cell_type": "code",
   "execution_count": 18,
   "id": "d101d4de-3663-4b8c-842e-d7d6aab2ac01",
   "metadata": {},
   "outputs": [
    {
     "data": {
      "text/plain": [
       "[[2, 4], [3, 6]]"
      ]
     },
     "execution_count": 18,
     "metadata": {},
     "output_type": "execute_result"
    }
   ],
   "source": [
    "myData = [[n * m for n in range(1, 3)] for m in range(2,4)]\n",
    "myData"
   ]
  },
  {
   "cell_type": "markdown",
   "id": "d97ed0e5-fa8f-473e-b00b-333c41a43a25",
   "metadata": {},
   "source": [
    "5."
   ]
  },
  {
   "cell_type": "code",
   "execution_count": 21,
   "id": "08d2a2ae-b589-46e7-9bd7-c5d700160543",
   "metadata": {},
   "outputs": [
    {
     "name": "stdout",
     "output_type": "stream",
     "text": [
      "(1) nn[4] :  500\n",
      "(2) nn[-1] :  500\n",
      "(3) nn[-2] :  400\n",
      "(4) nn[1:4] :  [200, 300, 400]\n",
      "(5) nn[0:1] :  [100]\n",
      "(6) nn[2:-1] :  [300, 400]\n",
      "(7) nn[0::2] :  [100, 300, 500]\n",
      "(8) nn[::-1] :  [500, 400, 300, 200, 100]\n",
      "(9) nn[::-2] :  [500, 300, 100]\n"
     ]
    }
   ],
   "source": [
    "nn = [100, 200, 300, 400, 500]\n",
    "\n",
    "print(\"(1) nn[4] : \", nn[4])\n",
    "print(\"(2) nn[-1] : \", nn[-1])\n",
    "print(\"(3) nn[-2] : \", nn[-2])\n",
    "print(\"(4) nn[1:4] : \", nn[1:4])\n",
    "print(\"(5) nn[0:1] : \", nn[0:1])\n",
    "print(\"(6) nn[2:-1] : \", nn[2:-1])\n",
    "print(\"(7) nn[0::2] : \", nn[0::2])\n",
    "print(\"(8) nn[::-1] : \", nn[::-1])\n",
    "print(\"(9) nn[::-2] : \", nn[::-2])"
   ]
  }
 ],
 "metadata": {
  "kernelspec": {
   "display_name": "Python 3 (ipykernel)",
   "language": "python",
   "name": "python3"
  },
  "language_info": {
   "codemirror_mode": {
    "name": "ipython",
    "version": 3
   },
   "file_extension": ".py",
   "mimetype": "text/x-python",
   "name": "python",
   "nbconvert_exporter": "python",
   "pygments_lexer": "ipython3",
   "version": "3.11.7"
  }
 },
 "nbformat": 4,
 "nbformat_minor": 5
}
