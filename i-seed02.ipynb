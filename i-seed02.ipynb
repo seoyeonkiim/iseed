{
 "cells": [
  {
   "cell_type": "markdown",
   "id": "ea7312be-cc40-415e-94f7-b834fb27e9f1",
   "metadata": {},
   "source": [
    "1."
   ]
  },
  {
   "cell_type": "code",
   "execution_count": 11,
   "id": "d007ca18-bba8-42c8-89be-e6a281c242d8",
   "metadata": {},
   "outputs": [
    {
     "name": "stdout",
     "output_type": "stream",
     "text": [
      "100\n",
      "100\n",
      "100\n",
      "50+50\n"
     ]
    }
   ],
   "source": [
    "print(\"100\")\n",
    "print(100)\n",
    "print(50+50)\n",
    "print(\"50+50\")"
   ]
  },
  {
   "cell_type": "markdown",
   "id": "e738d26d-c302-47c6-b44f-01f56dc63201",
   "metadata": {},
   "source": [
    "2."
   ]
  },
  {
   "cell_type": "code",
   "execution_count": 2,
   "id": "491ea1f6-6f28-456f-887b-636d038e8bcd",
   "metadata": {},
   "outputs": [
    {
     "name": "stdout",
     "output_type": "stream",
     "text": [
      "5/10=0\n"
     ]
    }
   ],
   "source": [
    "print('%d/%d=%d'%(5,10,5/10))"
   ]
  },
  {
   "cell_type": "markdown",
   "id": "973fd417-4e74-406f-8bed-688fb21f55b0",
   "metadata": {},
   "source": [
    "3."
   ]
  },
  {
   "cell_type": "code",
   "execution_count": 4,
   "id": "abbde4f2-368a-424c-89af-448debcf6185",
   "metadata": {},
   "outputs": [
    {
     "name": "stdout",
     "output_type": "stream",
     "text": [
      "0876\n",
      "CookBook\n",
      "123.5\n"
     ]
    }
   ],
   "source": [
    "print('%04d'%876)\n",
    "print('%5s'%\"CookBook\")\n",
    "print('%1.1f'%123.45)"
   ]
  },
  {
   "cell_type": "markdown",
   "id": "12805e08-08da-40fc-be63-cbc185628628",
   "metadata": {},
   "source": [
    "4."
   ]
  },
  {
   "cell_type": "code",
   "execution_count": 6,
   "id": "300e0680-83a6-4344-bd39-af53ff45cd73",
   "metadata": {
    "scrolled": true
   },
   "outputs": [
    {
     "name": "stdout",
     "output_type": "stream",
     "text": [
      "333111222\n"
     ]
    }
   ],
   "source": [
    "print(\"{2:d}{0:d}{1:d}\".format(111,222,333))"
   ]
  },
  {
   "cell_type": "markdown",
   "id": "3ee758d5-51e0-4570-af40-261ce740d5e2",
   "metadata": {},
   "source": [
    "11."
   ]
  },
  {
   "cell_type": "code",
   "execution_count": 10,
   "id": "44a00288-bb5b-498c-9eae-aaf5e567b977",
   "metadata": {},
   "outputs": [
    {
     "name": "stdout",
     "output_type": "stream",
     "text": [
      "11\n",
      "26\n"
     ]
    }
   ],
   "source": [
    "print(int(\"1011\", 2))\n",
    "print(int(\"1A\",16))"
   ]
  },
  {
   "cell_type": "markdown",
   "id": "666ea82d-9968-41f9-8301-1df483d075dc",
   "metadata": {},
   "source": [
    "13."
   ]
  },
  {
   "cell_type": "code",
   "execution_count": 13,
   "id": "ef2abd19-ca54-4fb3-a177-154cba4127f6",
   "metadata": {},
   "outputs": [
    {
     "ename": "ValueError",
     "evalue": "invalid literal for int() with base 2: '1002'",
     "output_type": "error",
     "traceback": [
      "\u001b[1;31m---------------------------------------------------------------------------\u001b[0m",
      "\u001b[1;31mValueError\u001b[0m                                Traceback (most recent call last)",
      "Cell \u001b[1;32mIn[13], line 1\u001b[0m\n\u001b[1;32m----> 1\u001b[0m \u001b[38;5;28mprint\u001b[39m(\u001b[38;5;28mint\u001b[39m(\u001b[38;5;124m'\u001b[39m\u001b[38;5;124m1002\u001b[39m\u001b[38;5;124m'\u001b[39m,\u001b[38;5;241m2\u001b[39m))\n",
      "\u001b[1;31mValueError\u001b[0m: invalid literal for int() with base 2: '1002'"
     ]
    }
   ],
   "source": [
    "print(int('1002',2))       "
   ]
  },
  {
   "cell_type": "code",
   "execution_count": 14,
   "id": "987bcf49-4225-480e-8e5e-70d24550f36d",
   "metadata": {},
   "outputs": [
    {
     "ename": "ValueError",
     "evalue": "invalid literal for int() with base 8: '1008'",
     "output_type": "error",
     "traceback": [
      "\u001b[1;31m---------------------------------------------------------------------------\u001b[0m",
      "\u001b[1;31mValueError\u001b[0m                                Traceback (most recent call last)",
      "Cell \u001b[1;32mIn[14], line 1\u001b[0m\n\u001b[1;32m----> 1\u001b[0m \u001b[38;5;28mprint\u001b[39m(\u001b[38;5;28mint\u001b[39m(\u001b[38;5;124m'\u001b[39m\u001b[38;5;124m1008\u001b[39m\u001b[38;5;124m'\u001b[39m,\u001b[38;5;241m8\u001b[39m))\n",
      "\u001b[1;31mValueError\u001b[0m: invalid literal for int() with base 8: '1008'"
     ]
    }
   ],
   "source": [
    "print(int('1008',8))"
   ]
  },
  {
   "cell_type": "code",
   "execution_count": 15,
   "id": "97409aa8-4a50-486e-82c0-eeecaf5de629",
   "metadata": {},
   "outputs": [
    {
     "ename": "ValueError",
     "evalue": "invalid literal for int() with base 16: 'AAFG'",
     "output_type": "error",
     "traceback": [
      "\u001b[1;31m---------------------------------------------------------------------------\u001b[0m",
      "\u001b[1;31mValueError\u001b[0m                                Traceback (most recent call last)",
      "Cell \u001b[1;32mIn[15], line 1\u001b[0m\n\u001b[1;32m----> 1\u001b[0m \u001b[38;5;28mprint\u001b[39m(\u001b[38;5;28mint\u001b[39m(\u001b[38;5;124m'\u001b[39m\u001b[38;5;124mAAFG\u001b[39m\u001b[38;5;124m'\u001b[39m,\u001b[38;5;241m16\u001b[39m))\n",
      "\u001b[1;31mValueError\u001b[0m: invalid literal for int() with base 16: 'AAFG'"
     ]
    }
   ],
   "source": [
    "print(int('AAFG',16))"
   ]
  },
  {
   "cell_type": "markdown",
   "id": "877356f4-a580-46b4-9961-1f6ef8c43dbc",
   "metadata": {},
   "source": [
    "15."
   ]
  },
  {
   "cell_type": "code",
   "execution_count": 17,
   "id": "c0d0a27d-379d-4489-b890-4bb60e3e77aa",
   "metadata": {},
   "outputs": [],
   "source": [
    "num = 12345678\n",
    "hex_num = hex(12345678)\n",
    "oct_num = oct(12345678)\n",
    "bin_num = bin(12345678)"
   ]
  }
 ],
 "metadata": {
  "kernelspec": {
   "display_name": "Python 3 (ipykernel)",
   "language": "python",
   "name": "python3"
  },
  "language_info": {
   "codemirror_mode": {
    "name": "ipython",
    "version": 3
   },
   "file_extension": ".py",
   "mimetype": "text/x-python",
   "name": "python",
   "nbconvert_exporter": "python",
   "pygments_lexer": "ipython3",
   "version": "3.11.7"
  }
 },
 "nbformat": 4,
 "nbformat_minor": 5
}
